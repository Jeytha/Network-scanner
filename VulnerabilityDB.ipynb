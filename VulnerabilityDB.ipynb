{
 "cells": [
  {
   "cell_type": "code",
   "execution_count": null,
   "metadata": {},
   "outputs": [],
   "source": [
    "# ==== Vulnerability Database ====\n",
    "vuln_db = {\n",
    "    21: \"FTP - Vulnerable to anonymous login.\",\n",
    "    22: \"SSH - Check for weak or default passwords.\",\n",
    "    23: \"Telnet - Insecure protocol; data sent in plaintext.\",\n",
    "    25: \"SMTP - Open relay may be possible.\",\n",
    "    53: \"DNS - Potential DNS cache poisoning.\",\n",
    "    80: \"HTTP - Check for outdated server software.\",\n",
    "    110: \"POP3 - Vulnerable to plaintext credential interception.\",\n",
    "    143: \"IMAP - Vulnerable to plaintext credential interception.\",\n",
    "    443: \"HTTPS - Check for SSL vulnerabilities.\",\n",
    "    445: \"SMB - Vulnerable to EternalBlue exploit (MS17-010).\",\n",
    "    3389: \"RDP - Vulnerable to brute-force attacks.\",\n",
    "}"
   ]
  }
 ],
 "metadata": {
  "language_info": {
   "name": "python"
  }
 },
 "nbformat": 4,
 "nbformat_minor": 2
}
