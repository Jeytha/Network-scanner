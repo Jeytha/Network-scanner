{
 "cells": [
  {
   "cell_type": "code",
   "execution_count": null,
   "metadata": {},
   "outputs": [],
   "source": [
    "# ==== GUI ====\n",
    "gui = Tk()\n",
    "gui.title('Port Scanner')\n",
    "gui.geometry(\"400x600+20+20\")\n",
    "\n",
    "# ==== Colors ====\n",
    "m1c = '#00ee00'\n",
    "bgc = '#222222'\n",
    "dbg = '#000000'\n",
    "fgc = '#111111'\n",
    "\n",
    "gui.tk_setPalette(background=bgc, foreground=m1c, activeBackground=fgc, activeForeground=bgc, highlightColor=m1c, highlightBackground=m1c)\n",
    "\n",
    "# ==== Labels ====\n",
    "L11 = Label(gui, text=\"Port Scanner\", font=(\"Helvetica\", 16, 'underline'))\n",
    "L11.place(x=16, y=10)\n",
    "\n",
    "L21 = Label(gui, text=\"Target: \")\n",
    "L21.place(x=16, y=90)\n",
    "\n",
    "L22 = Entry(gui, text=\"localhost\")\n",
    "L22.place(x=180, y=90)\n",
    "L22.insert(0, \"localhost\")\n",
    "\n",
    "L23 = Label(gui, text=\"Ports: \")\n",
    "L23.place(x=16, y=158)\n",
    "\n",
    "L24 = Entry(gui, text=\"1\")\n",
    "L24.place(x=180, y=158, width=95)\n",
    "L24.insert(0, \"1\")\n",
    "\n",
    "L25 = Entry(gui, text=\"1024\")\n",
    "L25.place(x=290, y=158, width=95)\n",
    "L25.insert(0, \"1024\")\n",
    "\n",
    "L26 = Label(gui, text=\"Results: \")\n",
    "L26.place(x=16, y=220)\n",
    "L27 = Label(gui, text=\"[ ... ]\")\n",
    "L27.place(x=180, y=220)\n"
   ]
  }
 ],
 "metadata": {
  "language_info": {
   "name": "python"
  }
 },
 "nbformat": 4,
 "nbformat_minor": 2
}
