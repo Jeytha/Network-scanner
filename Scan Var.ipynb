{
 "cells": [
  {
   "cell_type": "code",
   "execution_count": null,
   "metadata": {},
   "outputs": [],
   "source": [
    "# ==== Scan Vars ====\n",
    "ip_s = 1\n",
    "ip_f = 1024\n",
    "log = []\n",
    "ports = []\n",
    "target = 'localhost'\n",
    "protocol = 'TCP'"
   ]
  }
 ],
 "metadata": {
  "language_info": {
   "name": "python"
  }
 },
 "nbformat": 4,
 "nbformat_minor": 2
}
