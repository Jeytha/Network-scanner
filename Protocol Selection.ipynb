{
 "cells": [
  {
   "cell_type": "code",
   "execution_count": null,
   "metadata": {},
   "outputs": [],
   "source": [
    "# ==== Protocol Selection ====\n",
    "protocol_var = StringVar(value=\"TCP\")\n",
    "L28 = Label(gui, text=\"Protocol: \")\n",
    "L28.place(x=16, y=120)\n",
    "protocol_menu = OptionMenu(gui, protocol_var, \"TCP\", \"UDP\")\n",
    "protocol_menu.place(x=180, y=120)\n"
   ]
  }
 ],
 "metadata": {
  "language_info": {
   "name": "python"
  }
 },
 "nbformat": 4,
 "nbformat_minor": 2
}
