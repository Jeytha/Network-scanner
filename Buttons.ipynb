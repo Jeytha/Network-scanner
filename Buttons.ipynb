{
 "cells": [
  {
   "cell_type": "code",
   "execution_count": null,
   "metadata": {},
   "outputs": [],
   "source": [
    "# ==== Buttons / Scans ====\n",
    "B11 = Button(gui, text=\"Start Scan\", command=startScan)\n",
    "B11.place(x=16, y=500, width=170)\n",
    "B21 = Button(gui, text=\"Save Result\", command=saveScan)\n",
    "B21.place(x=210, y=500, width=170)\n",
    "\n",
    "# ==== Start GUI ====\n",
    "gui.mainloop()"
   ]
  }
 ],
 "metadata": {
  "language_info": {
   "name": "python"
  }
 },
 "nbformat": 4,
 "nbformat_minor": 2
}
