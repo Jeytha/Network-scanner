{
 "cells": [
  {
   "cell_type": "code",
   "execution_count": null,
   "metadata": {},
   "outputs": [],
   "source": [
    "# ==== Ports list ====\n",
    "frame = Frame(gui)\n",
    "frame.place(x=16, y=275, width=370, height=215)\n",
    "listbox = Listbox(frame, width=59, height=10)\n",
    "listbox.place(x=0, y=0)\n",
    "scrollbar = Scrollbar(frame)\n",
    "scrollbar.pack(side=RIGHT, fill=Y)\n",
    "listbox.config(yscrollcommand=scrollbar.set)\n",
    "scrollbar.config(command=listbox.yview)\n",
    "\n"
   ]
  }
 ],
 "metadata": {
  "language_info": {
   "name": "python"
  }
 },
 "nbformat": 4,
 "nbformat_minor": 2
}
