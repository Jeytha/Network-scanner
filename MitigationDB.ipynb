{
 "cells": [
  {
   "cell_type": "code",
   "execution_count": null,
   "metadata": {},
   "outputs": [],
   "source": [
    "# ==== Mitigation Database ====\n",
    "mitigation_db = {\n",
    "    21: \"Disable anonymous login or use SFTP.\",\n",
    "    22: \"Enforce strong passwords and disable root login.\",\n",
    "    23: \"Replace with SSH or other secure protocols.\",\n",
    "    25: \"Restrict relay to trusted hosts only.\",\n",
    "    53: \"Implement DNSSEC and monitor DNS traffic.\",\n",
    "    80: \"Regularly update server software.\",\n",
    "    110: \"Use encrypted protocols like POP3S.\",\n",
    "    143: \"Switch to encrypted protocols like IMAPS.\",\n",
    "    443: \"Ensure SSL/TLS certificates are up-to-date.\",\n",
    "    445: \"Apply MS17-010 patch and disable SMBv1.\",\n",
    "    3389: \"Enable account lockouts and use VPN for RDP access.\",\n",
    "}"
   ]
  }
 ],
 "metadata": {
  "language_info": {
   "name": "python"
  }
 },
 "nbformat": 4,
 "nbformat_minor": 2
}
